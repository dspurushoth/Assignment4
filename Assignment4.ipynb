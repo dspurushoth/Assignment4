{
 "cells": [
  {
   "cell_type": "markdown",
   "metadata": {},
   "source": [
    "# Task 1:"
   ]
  },
  {
   "cell_type": "markdown",
   "metadata": {},
   "source": [
    "Problem Statement:\n",
    "Write a function to find moving average in an array over a window:\n",
    "Test it over [3, 5, 7, 2, 8, 10, 11, 65, 72, 81, 99, 100, 150] and window of 3."
   ]
  },
  {
   "cell_type": "code",
   "execution_count": 1,
   "metadata": {},
   "outputs": [
    {
     "name": "stdout",
     "output_type": "stream",
     "text": [
      "[  5.           4.66666667   5.66666667   6.66666667   9.66666667\n",
      "  28.66666667  49.33333333  72.66666667  84.          93.33333333\n",
      " 116.33333333]\n"
     ]
    }
   ],
   "source": [
    "import numpy as np\n",
    "\n",
    "def findmovingaverage(values,window):\n",
    "    avg = np.repeat(1,window)/window\n",
    "    result = np.convolve(values, avg, 'valid')\n",
    "    return result\n",
    "\n",
    "\n",
    "lst = [3, 5, 7, 2, 8, 10, 11, 65, 72, 81, 99, 100, 150]\n",
    "resultlst = findmovingaverage(lst,3)\n",
    "print(resultlst)\n"
   ]
  },
  {
   "cell_type": "markdown",
   "metadata": {},
   "source": [
    "# Task 2:"
   ]
  },
  {
   "cell_type": "markdown",
   "metadata": {},
   "source": [
    "1.How-to-count-distance-to-the-previous-zero\n",
    "For each value, count the difference back to the previous zero (or the start of the Series,\n",
    "whichever is closer)\n",
    "create a new column 'Y'\n",
    "Consider a DataFrame df where there is an integer column 'X'\n",
    "import pandas as pd\n",
    "df = pd.DataFrame({'X': [7, 2, 0, 3, 4, 2, 5, 0, 3, 4]})\n"
   ]
  },
  {
   "cell_type": "code",
   "execution_count": 2,
   "metadata": {},
   "outputs": [
    {
     "data": {
      "text/html": [
       "<div>\n",
       "<style scoped>\n",
       "    .dataframe tbody tr th:only-of-type {\n",
       "        vertical-align: middle;\n",
       "    }\n",
       "\n",
       "    .dataframe tbody tr th {\n",
       "        vertical-align: top;\n",
       "    }\n",
       "\n",
       "    .dataframe thead th {\n",
       "        text-align: right;\n",
       "    }\n",
       "</style>\n",
       "<table border=\"1\" class=\"dataframe\">\n",
       "  <thead>\n",
       "    <tr style=\"text-align: right;\">\n",
       "      <th></th>\n",
       "      <th>X</th>\n",
       "      <th>Y</th>\n",
       "    </tr>\n",
       "  </thead>\n",
       "  <tbody>\n",
       "    <tr>\n",
       "      <th>0</th>\n",
       "      <td>7</td>\n",
       "      <td>1</td>\n",
       "    </tr>\n",
       "    <tr>\n",
       "      <th>1</th>\n",
       "      <td>2</td>\n",
       "      <td>2</td>\n",
       "    </tr>\n",
       "    <tr>\n",
       "      <th>2</th>\n",
       "      <td>0</td>\n",
       "      <td>0</td>\n",
       "    </tr>\n",
       "    <tr>\n",
       "      <th>3</th>\n",
       "      <td>3</td>\n",
       "      <td>1</td>\n",
       "    </tr>\n",
       "    <tr>\n",
       "      <th>4</th>\n",
       "      <td>4</td>\n",
       "      <td>2</td>\n",
       "    </tr>\n",
       "    <tr>\n",
       "      <th>5</th>\n",
       "      <td>2</td>\n",
       "      <td>3</td>\n",
       "    </tr>\n",
       "    <tr>\n",
       "      <th>6</th>\n",
       "      <td>5</td>\n",
       "      <td>4</td>\n",
       "    </tr>\n",
       "    <tr>\n",
       "      <th>7</th>\n",
       "      <td>0</td>\n",
       "      <td>0</td>\n",
       "    </tr>\n",
       "    <tr>\n",
       "      <th>8</th>\n",
       "      <td>3</td>\n",
       "      <td>1</td>\n",
       "    </tr>\n",
       "    <tr>\n",
       "      <th>9</th>\n",
       "      <td>4</td>\n",
       "      <td>2</td>\n",
       "    </tr>\n",
       "  </tbody>\n",
       "</table>\n",
       "</div>"
      ],
      "text/plain": [
       "   X  Y\n",
       "0  7  1\n",
       "1  2  2\n",
       "2  0  0\n",
       "3  3  1\n",
       "4  4  2\n",
       "5  2  3\n",
       "6  5  4\n",
       "7  0  0\n",
       "8  3  1\n",
       "9  4  2"
      ]
     },
     "execution_count": 2,
     "metadata": {},
     "output_type": "execute_result"
    }
   ],
   "source": [
    "import pandas as pd\n",
    "\n",
    "df = pd.DataFrame({'X': [7, 2, 0, 3, 4, 2, 5, 0, 3, 4]})\n",
    "\n",
    "lstx=list(df['X'])\n",
    "\n",
    "lstx\n",
    "i=0\n",
    "lsty=[]\n",
    "for n in lstx:\n",
    "    if(n==0):\n",
    "        i=0\n",
    "    else:\n",
    "        i=i+1\n",
    "    lsty.append(i)\n",
    "\n",
    "lsty\n",
    "\n",
    "df['Y']=lsty\n",
    "df"
   ]
  },
  {
   "cell_type": "markdown",
   "metadata": {},
   "source": [
    "2. Create a DatetimeIndex that contains each business day of 2015 and use it to index a Series of\n",
    "random numbers."
   ]
  },
  {
   "cell_type": "code",
   "execution_count": 2,
   "metadata": {},
   "outputs": [
    {
     "data": {
      "text/plain": [
       "2015-01-01    0.453221\n",
       "2015-01-02    0.923246\n",
       "2015-01-05    0.927571\n",
       "2015-01-06    0.556779\n",
       "2015-01-07    0.080919\n",
       "2015-01-08    0.396628\n",
       "2015-01-09    0.541497\n",
       "2015-01-12    0.430789\n",
       "2015-01-13    0.886144\n",
       "2015-01-14    0.492600\n",
       "2015-01-15    0.855304\n",
       "2015-01-16    0.693182\n",
       "2015-01-19    0.859371\n",
       "2015-01-20    0.595340\n",
       "2015-01-21    0.339020\n",
       "2015-01-22    0.526199\n",
       "2015-01-23    0.191969\n",
       "2015-01-26    0.308550\n",
       "2015-01-27    0.181301\n",
       "2015-01-28    0.156891\n",
       "2015-01-29    0.472262\n",
       "2015-01-30    0.808709\n",
       "2015-02-02    0.080854\n",
       "2015-02-03    0.523372\n",
       "2015-02-04    0.538296\n",
       "2015-02-05    0.341434\n",
       "2015-02-06    0.672254\n",
       "2015-02-09    0.702279\n",
       "2015-02-10    0.469931\n",
       "2015-02-11    0.195753\n",
       "                ...   \n",
       "2015-11-20    0.586830\n",
       "2015-11-23    0.608384\n",
       "2015-11-24    0.934183\n",
       "2015-11-25    0.877664\n",
       "2015-11-26    0.852343\n",
       "2015-11-27    0.893876\n",
       "2015-11-30    0.016952\n",
       "2015-12-01    0.327944\n",
       "2015-12-02    0.204993\n",
       "2015-12-03    0.604464\n",
       "2015-12-04    0.949612\n",
       "2015-12-07    0.450956\n",
       "2015-12-08    0.726318\n",
       "2015-12-09    0.197262\n",
       "2015-12-10    0.873720\n",
       "2015-12-11    0.639292\n",
       "2015-12-14    0.290414\n",
       "2015-12-15    0.124900\n",
       "2015-12-16    0.968195\n",
       "2015-12-17    0.205790\n",
       "2015-12-18    0.613769\n",
       "2015-12-21    0.136665\n",
       "2015-12-22    0.337342\n",
       "2015-12-23    0.147573\n",
       "2015-12-24    0.047352\n",
       "2015-12-25    0.870047\n",
       "2015-12-28    0.651565\n",
       "2015-12-29    0.936330\n",
       "2015-12-30    0.630608\n",
       "2015-12-31    0.062889\n",
       "Freq: B, Length: 261, dtype: float64"
      ]
     },
     "execution_count": 2,
     "metadata": {},
     "output_type": "execute_result"
    }
   ],
   "source": [
    "import pandas as pd\n",
    "import numpy as np\n",
    "\n",
    "bdate = pd.date_range(start='2015-01-01', end='2015-12-31', freq='B') \n",
    "series = pd.Series(np.random.rand(len(bdate)), index=bdate)\n",
    "series"
   ]
  },
  {
   "cell_type": "markdown",
   "metadata": {},
   "source": [
    "3. Find the sum of the values in s for every Wednesday"
   ]
  },
  {
   "cell_type": "code",
   "execution_count": 8,
   "metadata": {},
   "outputs": [
    {
     "data": {
      "text/plain": [
       "22.58846620762767"
      ]
     },
     "execution_count": 8,
     "metadata": {},
     "output_type": "execute_result"
    }
   ],
   "source": [
    "series[bdate.weekday == 2].sum()"
   ]
  },
  {
   "cell_type": "markdown",
   "metadata": {},
   "source": [
    "4. Average For each calendar month"
   ]
  },
  {
   "cell_type": "code",
   "execution_count": 9,
   "metadata": {},
   "outputs": [
    {
     "data": {
      "text/plain": [
       "2015-01-31    0.377235\n",
       "2015-02-28    0.639944\n",
       "2015-03-31    0.401324\n",
       "2015-04-30    0.399588\n",
       "2015-05-31    0.371873\n",
       "2015-06-30    0.469210\n",
       "2015-07-31    0.401619\n",
       "2015-08-31    0.455408\n",
       "2015-09-30    0.533018\n",
       "2015-10-31    0.464711\n",
       "2015-11-30    0.569270\n",
       "2015-12-31    0.394487\n",
       "Freq: M, dtype: float64"
      ]
     },
     "execution_count": 9,
     "metadata": {},
     "output_type": "execute_result"
    }
   ],
   "source": [
    "series.resample('M').mean()"
   ]
  },
  {
   "cell_type": "markdown",
   "metadata": {},
   "source": [
    "5.For each group of four consecutive calendar months in s, find the date on which the highest\n",
    "value occurred."
   ]
  },
  {
   "cell_type": "code",
   "execution_count": 80,
   "metadata": {},
   "outputs": [
    {
     "data": {
      "text/html": [
       "<div>\n",
       "<style scoped>\n",
       "    .dataframe tbody tr th:only-of-type {\n",
       "        vertical-align: middle;\n",
       "    }\n",
       "\n",
       "    .dataframe tbody tr th {\n",
       "        vertical-align: top;\n",
       "    }\n",
       "\n",
       "    .dataframe thead th {\n",
       "        text-align: right;\n",
       "    }\n",
       "</style>\n",
       "<table border=\"1\" class=\"dataframe\">\n",
       "  <thead>\n",
       "    <tr style=\"text-align: right;\">\n",
       "      <th></th>\n",
       "      <th>Date</th>\n",
       "      <th>MaxValue</th>\n",
       "    </tr>\n",
       "  </thead>\n",
       "  <tbody>\n",
       "    <tr>\n",
       "      <th>JAN-APR</th>\n",
       "      <td>2015-02-26</td>\n",
       "      <td>0.991737</td>\n",
       "    </tr>\n",
       "    <tr>\n",
       "      <th>MAY-AUG</th>\n",
       "      <td>2015-07-13</td>\n",
       "      <td>0.997870</td>\n",
       "    </tr>\n",
       "    <tr>\n",
       "      <th>SEP-DEC</th>\n",
       "      <td>2015-12-11</td>\n",
       "      <td>0.986784</td>\n",
       "    </tr>\n",
       "  </tbody>\n",
       "</table>\n",
       "</div>"
      ],
      "text/plain": [
       "              Date  MaxValue\n",
       "JAN-APR 2015-02-26  0.991737\n",
       "MAY-AUG 2015-07-13  0.997870\n",
       "SEP-DEC 2015-12-11  0.986784"
      ]
     },
     "execution_count": 80,
     "metadata": {},
     "output_type": "execute_result"
    }
   ],
   "source": [
    "mmax=series.groupby(pd.Grouper(freq='m')).agg(['idxmax','max'])\n",
    "lstdate=list(mmax[\"idxmax\"])\n",
    "lstvalue=list(mmax[\"max\"])\n",
    "maxvalue=0\n",
    "index=0\n",
    "resdf=pd.DataFrame(columns=['Date', 'MaxValue'])\n",
    "\n",
    "for n in range(0,len(lstvalue)):\n",
    "    \n",
    "    if (lstvalue[n]>maxvalue):\n",
    "        maxvalue=lstvalue[n]\n",
    "        index=n\n",
    "        \n",
    "    if((n+1)%4==0 and n>0):\n",
    "        resdf=resdf.append(pd.Series([lstdate[index], lstvalue[index]], index=['Date','MaxValue']), ignore_index=True)\n",
    "        maxvalue=0\n",
    "\n",
    "lstindex=['JAN-APR','MAY-AUG','SEP-DEC']\n",
    "resdf.index=lstindex\n",
    "resdf\n"
   ]
  },
  {
   "cell_type": "code",
   "execution_count": null,
   "metadata": {},
   "outputs": [],
   "source": []
  }
 ],
 "metadata": {
  "kernelspec": {
   "display_name": "Python 3",
   "language": "python",
   "name": "python3"
  },
  "language_info": {
   "codemirror_mode": {
    "name": "ipython",
    "version": 3
   },
   "file_extension": ".py",
   "mimetype": "text/x-python",
   "name": "python",
   "nbconvert_exporter": "python",
   "pygments_lexer": "ipython3",
   "version": "3.7.0"
  }
 },
 "nbformat": 4,
 "nbformat_minor": 2
}
